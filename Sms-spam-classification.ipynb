{
 "cells": [
  {
   "cell_type": "markdown",
   "metadata": {},
   "source": [
    "## SMS spam classification \n",
    "\n",
    "Data source: http://www.dt.fee.unicamp.br/~tiago/smsspamcollection/"
   ]
  },
  {
   "cell_type": "code",
   "execution_count": 41,
   "metadata": {},
   "outputs": [],
   "source": [
    "from nltk.tokenize import word_tokenize\n",
    "import en_core_web_sm\n",
    "from nltk.corpus import stopwords\n",
    "import matplotlib.pyplot as plt\n",
    "import pandas as pd\n",
    "from sklearn.model_selection import train_test_split\n",
    "from sklearn.feature_extraction.text import CountVectorizer\n",
    "from sklearn.linear_model import LogisticRegression\n",
    "from sklearn.model_selection import cross_val_score, cross_val_predict\n",
    "from sklearn import metrics\n",
    "from keras.models import Sequential\n",
    "from keras import layers\n",
    "from sklearn.preprocessing import LabelEncoder \n",
    "from sklearn.model_selection import StratifiedKFold\n",
    "from sklearn.pipeline import Pipeline"
   ]
  },
  {
   "cell_type": "code",
   "execution_count": 42,
   "metadata": {},
   "outputs": [
    {
     "data": {
      "text/html": [
       "<div>\n",
       "<style scoped>\n",
       "    .dataframe tbody tr th:only-of-type {\n",
       "        vertical-align: middle;\n",
       "    }\n",
       "\n",
       "    .dataframe tbody tr th {\n",
       "        vertical-align: top;\n",
       "    }\n",
       "\n",
       "    .dataframe thead th {\n",
       "        text-align: right;\n",
       "    }\n",
       "</style>\n",
       "<table border=\"1\" class=\"dataframe\">\n",
       "  <thead>\n",
       "    <tr style=\"text-align: right;\">\n",
       "      <th></th>\n",
       "      <th>label</th>\n",
       "      <th>sms</th>\n",
       "    </tr>\n",
       "  </thead>\n",
       "  <tbody>\n",
       "    <tr>\n",
       "      <th>0</th>\n",
       "      <td>ham</td>\n",
       "      <td>Go until jurong point, crazy.. Available only ...</td>\n",
       "    </tr>\n",
       "    <tr>\n",
       "      <th>1</th>\n",
       "      <td>ham</td>\n",
       "      <td>Ok lar... Joking wif u oni...</td>\n",
       "    </tr>\n",
       "    <tr>\n",
       "      <th>2</th>\n",
       "      <td>spam</td>\n",
       "      <td>Free entry in 2 a wkly comp to win FA Cup fina...</td>\n",
       "    </tr>\n",
       "    <tr>\n",
       "      <th>3</th>\n",
       "      <td>ham</td>\n",
       "      <td>U dun say so early hor... U c already then say...</td>\n",
       "    </tr>\n",
       "    <tr>\n",
       "      <th>4</th>\n",
       "      <td>ham</td>\n",
       "      <td>Nah I don't think he goes to usf, he lives aro...</td>\n",
       "    </tr>\n",
       "  </tbody>\n",
       "</table>\n",
       "</div>"
      ],
      "text/plain": [
       "  label                                                sms\n",
       "0   ham  Go until jurong point, crazy.. Available only ...\n",
       "1   ham                      Ok lar... Joking wif u oni...\n",
       "2  spam  Free entry in 2 a wkly comp to win FA Cup fina...\n",
       "3   ham  U dun say so early hor... U c already then say...\n",
       "4   ham  Nah I don't think he goes to usf, he lives aro..."
      ]
     },
     "execution_count": 42,
     "metadata": {},
     "output_type": "execute_result"
    }
   ],
   "source": [
    "colnames=['label', 'sms']\n",
    "filepath = '/Users/RodolfoSaldanha/Downloads/smsspamcollection/SMSSpamCollection.txt'\n",
    "\n",
    "data = pd.read_csv(filepath, sep=\"\\t\", header=None, names=colnames)\n",
    "data.head()"
   ]
  },
  {
   "cell_type": "markdown",
   "metadata": {},
   "source": [
    "#### Preprocessing"
   ]
  },
  {
   "cell_type": "code",
   "execution_count": 43,
   "metadata": {},
   "outputs": [],
   "source": [
    "le = LabelEncoder() \n",
    "  \n",
    "data['target']= le.fit_transform(data['label']) "
   ]
  },
  {
   "cell_type": "code",
   "execution_count": 48,
   "metadata": {},
   "outputs": [],
   "source": [
    "sentences = data['sms'].values\n",
    "y = data['target'].values"
   ]
  },
  {
   "cell_type": "markdown",
   "metadata": {},
   "source": [
    "#### Logistic Regression"
   ]
  },
  {
   "cell_type": "code",
   "execution_count": 49,
   "metadata": {},
   "outputs": [
    {
     "name": "stderr",
     "output_type": "stream",
     "text": [
      "/Users/RodolfoSaldanha/anaconda3/lib/python3.7/site-packages/sklearn/linear_model/logistic.py:433: FutureWarning: Default solver will be changed to 'lbfgs' in 0.22. Specify a solver to silence this warning.\n",
      "  FutureWarning)\n"
     ]
    },
    {
     "name": "stdout",
     "output_type": "stream",
     "text": [
      "Cross-validation Accuracy: [0.9827957  0.98277718 0.98600646 0.98060345 0.98168103 0.98491379] Average: 0.9831296021845959\n"
     ]
    },
    {
     "name": "stderr",
     "output_type": "stream",
     "text": [
      "/Users/RodolfoSaldanha/anaconda3/lib/python3.7/site-packages/sklearn/linear_model/logistic.py:433: FutureWarning: Default solver will be changed to 'lbfgs' in 0.22. Specify a solver to silence this warning.\n",
      "  FutureWarning)\n"
     ]
    },
    {
     "name": "stdout",
     "output_type": "stream",
     "text": [
      "Cross-Predicted Accuracy: 0.9831299353912419\n"
     ]
    }
   ],
   "source": [
    "clf = Pipeline([('vect', CountVectorizer()), ('classifier', LogisticRegression())])\n",
    "\n",
    "scores = cross_val_score(clf, sentences, y, cv=6, scoring='accuracy')\n",
    "print('Cross-validation Accuracy:',scores, 'Average:',scores.mean())\n",
    "\n",
    "predictions = cross_val_predict(clf, sentences, y, cv=6)\n",
    "accuracy = metrics.accuracy_score(y, predictions)\n",
    "print('Cross-Predicted Accuracy:', accuracy)"
   ]
  },
  {
   "cell_type": "markdown",
   "metadata": {},
   "source": [
    "#### Deep Neural Network"
   ]
  },
  {
   "cell_type": "code",
   "execution_count": 109,
   "metadata": {},
   "outputs": [],
   "source": [
    "def create_model(X_train):\n",
    "    input_dim = X_train.shape[1]  # Number of features\n",
    "\n",
    "    model = Sequential()\n",
    "    model.add(layers.Dense(10, input_dim=input_dim, activation='relu'))\n",
    "    model.add(layers.Dense(1, activation='sigmoid'))\n",
    "    \n",
    "    model.compile(loss='binary_crossentropy',\n",
    "              optimizer='adam',\n",
    "              metrics=['accuracy'])\n",
    "    return model"
   ]
  },
  {
   "cell_type": "code",
   "execution_count": 128,
   "metadata": {},
   "outputs": [
    {
     "name": "stdout",
     "output_type": "stream",
     "text": [
      "Train on 4457 samples, validate on 1115 samples\n",
      "Epoch 1/100\n",
      "4457/4457 [==============================] - 4s 936us/step - loss: 0.2737 - acc: 0.9479 - val_loss: 0.0994 - val_acc: 0.9803\n",
      "Epoch 2/100\n",
      "4457/4457 [==============================] - 2s 428us/step - loss: 0.0594 - acc: 0.9912 - val_loss: 0.0635 - val_acc: 0.9839\n",
      "Epoch 3/100\n",
      "4457/4457 [==============================] - 2s 453us/step - loss: 0.0262 - acc: 0.9953 - val_loss: 0.0564 - val_acc: 0.9839\n",
      "Epoch 4/100\n",
      "4457/4457 [==============================] - 2s 437us/step - loss: 0.0136 - acc: 0.9984 - val_loss: 0.0574 - val_acc: 0.9848\n",
      "Epoch 5/100\n",
      "4457/4457 [==============================] - 2s 542us/step - loss: 0.0077 - acc: 0.9996 - val_loss: 0.0602 - val_acc: 0.9848\n",
      "Epoch 6/100\n",
      "4457/4457 [==============================] - 2s 524us/step - loss: 0.0050 - acc: 0.9998 - val_loss: 0.0645 - val_acc: 0.9848\n",
      "Epoch 7/100\n",
      "4457/4457 [==============================] - 2s 488us/step - loss: 0.0035 - acc: 0.9998 - val_loss: 0.0657 - val_acc: 0.9848\n",
      "Epoch 8/100\n",
      "4457/4457 [==============================] - 2s 425us/step - loss: 0.0026 - acc: 0.9998 - val_loss: 0.0683 - val_acc: 0.9848\n",
      "Epoch 9/100\n",
      "4457/4457 [==============================] - 2s 447us/step - loss: 0.0020 - acc: 0.9998 - val_loss: 0.0724 - val_acc: 0.9848\n",
      "Epoch 10/100\n",
      "4457/4457 [==============================] - 2s 458us/step - loss: 0.0015 - acc: 0.9998 - val_loss: 0.0741 - val_acc: 0.9857\n",
      "Epoch 11/100\n",
      "4457/4457 [==============================] - 2s 525us/step - loss: 0.0012 - acc: 0.9998 - val_loss: 0.0776 - val_acc: 0.9848\n",
      "Epoch 12/100\n",
      "4457/4457 [==============================] - 2s 480us/step - loss: 9.8942e-04 - acc: 0.9998 - val_loss: 0.0809 - val_acc: 0.9848\n",
      "Epoch 13/100\n",
      "4457/4457 [==============================] - 2s 514us/step - loss: 8.1132e-04 - acc: 0.9998 - val_loss: 0.0817 - val_acc: 0.9857\n",
      "Epoch 14/100\n",
      "4457/4457 [==============================] - 2s 494us/step - loss: 6.4850e-04 - acc: 0.9998 - val_loss: 0.0869 - val_acc: 0.9848\n",
      "Epoch 15/100\n",
      "4457/4457 [==============================] - 2s 474us/step - loss: 5.3546e-04 - acc: 0.9998 - val_loss: 0.0874 - val_acc: 0.9848\n",
      "Epoch 16/100\n",
      "4457/4457 [==============================] - 2s 458us/step - loss: 4.2862e-04 - acc: 0.9998 - val_loss: 0.0899 - val_acc: 0.9848\n",
      "Epoch 17/100\n",
      "4457/4457 [==============================] - 2s 471us/step - loss: 3.4359e-04 - acc: 0.9998 - val_loss: 0.0925 - val_acc: 0.9848\n",
      "Epoch 18/100\n",
      "4457/4457 [==============================] - 2s 512us/step - loss: 2.7974e-04 - acc: 1.0000 - val_loss: 0.0954 - val_acc: 0.9848\n",
      "Epoch 19/100\n",
      "4457/4457 [==============================] - 3s 573us/step - loss: 2.3048e-04 - acc: 1.0000 - val_loss: 0.0973 - val_acc: 0.9848\n",
      "Epoch 20/100\n",
      "4457/4457 [==============================] - 2s 453us/step - loss: 1.9162e-04 - acc: 1.0000 - val_loss: 0.1011 - val_acc: 0.9848\n",
      "Epoch 21/100\n",
      "4457/4457 [==============================] - 2s 534us/step - loss: 1.5979e-04 - acc: 1.0000 - val_loss: 0.1037 - val_acc: 0.9848\n",
      "Epoch 22/100\n",
      "4457/4457 [==============================] - 2s 458us/step - loss: 1.3805e-04 - acc: 1.0000 - val_loss: 0.1050 - val_acc: 0.9848\n",
      "Epoch 23/100\n",
      "4457/4457 [==============================] - 2s 454us/step - loss: 1.1853e-04 - acc: 1.0000 - val_loss: 0.1090 - val_acc: 0.9848\n",
      "Epoch 24/100\n",
      "4457/4457 [==============================] - 2s 472us/step - loss: 1.0461e-04 - acc: 1.0000 - val_loss: 0.1097 - val_acc: 0.9848\n",
      "Epoch 25/100\n",
      "4457/4457 [==============================] - 2s 496us/step - loss: 9.0901e-05 - acc: 1.0000 - val_loss: 0.1122 - val_acc: 0.9848\n",
      "Epoch 26/100\n",
      "4457/4457 [==============================] - 2s 497us/step - loss: 8.1057e-05 - acc: 1.0000 - val_loss: 0.1147 - val_acc: 0.9848\n",
      "Epoch 27/100\n",
      "4457/4457 [==============================] - 2s 490us/step - loss: 7.0056e-05 - acc: 1.0000 - val_loss: 0.1178 - val_acc: 0.9848\n",
      "Epoch 28/100\n",
      "4457/4457 [==============================] - 2s 470us/step - loss: 6.2964e-05 - acc: 1.0000 - val_loss: 0.1188 - val_acc: 0.9848\n",
      "Epoch 29/100\n",
      "4457/4457 [==============================] - 2s 478us/step - loss: 5.4376e-05 - acc: 1.0000 - val_loss: 0.1232 - val_acc: 0.9848\n",
      "Epoch 30/100\n",
      "4457/4457 [==============================] - 2s 493us/step - loss: 4.8231e-05 - acc: 1.0000 - val_loss: 0.1237 - val_acc: 0.9848\n",
      "Epoch 31/100\n",
      "4457/4457 [==============================] - 2s 433us/step - loss: 4.2809e-05 - acc: 1.0000 - val_loss: 0.1266 - val_acc: 0.9839\n",
      "Epoch 32/100\n",
      "4457/4457 [==============================] - 2s 440us/step - loss: 3.7742e-05 - acc: 1.0000 - val_loss: 0.1299 - val_acc: 0.9839\n",
      "Epoch 33/100\n",
      "4457/4457 [==============================] - 2s 486us/step - loss: 3.3305e-05 - acc: 1.0000 - val_loss: 0.1316 - val_acc: 0.9839\n",
      "Epoch 34/100\n",
      "4457/4457 [==============================] - 2s 470us/step - loss: 2.9312e-05 - acc: 1.0000 - val_loss: 0.1343 - val_acc: 0.9830\n",
      "Epoch 35/100\n",
      "4457/4457 [==============================] - 3s 593us/step - loss: 2.6123e-05 - acc: 1.0000 - val_loss: 0.1368 - val_acc: 0.9830\n",
      "Epoch 36/100\n",
      "4457/4457 [==============================] - 2s 494us/step - loss: 2.2981e-05 - acc: 1.0000 - val_loss: 0.1383 - val_acc: 0.9830\n",
      "Epoch 37/100\n",
      "4457/4457 [==============================] - 2s 440us/step - loss: 2.0519e-05 - acc: 1.0000 - val_loss: 0.1416 - val_acc: 0.9830\n",
      "Epoch 38/100\n",
      "4457/4457 [==============================] - 2s 441us/step - loss: 1.8066e-05 - acc: 1.0000 - val_loss: 0.1458 - val_acc: 0.9830\n",
      "Epoch 39/100\n",
      "4457/4457 [==============================] - 2s 425us/step - loss: 1.6159e-05 - acc: 1.0000 - val_loss: 0.1475 - val_acc: 0.9830\n",
      "Epoch 40/100\n",
      "4457/4457 [==============================] - 2s 420us/step - loss: 1.4378e-05 - acc: 1.0000 - val_loss: 0.1494 - val_acc: 0.9830\n",
      "Epoch 41/100\n",
      "4457/4457 [==============================] - 2s 438us/step - loss: 1.2810e-05 - acc: 1.0000 - val_loss: 0.1515 - val_acc: 0.9830\n",
      "Epoch 42/100\n",
      "4457/4457 [==============================] - 2s 431us/step - loss: 1.1164e-05 - acc: 1.0000 - val_loss: 0.1522 - val_acc: 0.9830\n",
      "Epoch 43/100\n",
      "4457/4457 [==============================] - 2s 483us/step - loss: 9.8398e-06 - acc: 1.0000 - val_loss: 0.1554 - val_acc: 0.9830\n",
      "Epoch 44/100\n",
      "4457/4457 [==============================] - 3s 573us/step - loss: 8.6413e-06 - acc: 1.0000 - val_loss: 0.1583 - val_acc: 0.9830\n",
      "Epoch 45/100\n",
      "4457/4457 [==============================] - 2s 422us/step - loss: 7.8056e-06 - acc: 1.0000 - val_loss: 0.1581 - val_acc: 0.9830\n",
      "Epoch 46/100\n",
      "4457/4457 [==============================] - 2s 459us/step - loss: 6.8657e-06 - acc: 1.0000 - val_loss: 0.1604 - val_acc: 0.9830\n",
      "Epoch 47/100\n",
      "4457/4457 [==============================] - 2s 416us/step - loss: 6.0179e-06 - acc: 1.0000 - val_loss: 0.1620 - val_acc: 0.9830\n",
      "Epoch 48/100\n",
      "4457/4457 [==============================] - 2s 408us/step - loss: 5.3385e-06 - acc: 1.0000 - val_loss: 0.1619 - val_acc: 0.9839\n",
      "Epoch 49/100\n",
      "4457/4457 [==============================] - 2s 434us/step - loss: 4.6754e-06 - acc: 1.0000 - val_loss: 0.1632 - val_acc: 0.9839\n",
      "Epoch 50/100\n",
      "4457/4457 [==============================] - 2s 407us/step - loss: 4.1318e-06 - acc: 1.0000 - val_loss: 0.1651 - val_acc: 0.9839\n",
      "Epoch 51/100\n",
      "4457/4457 [==============================] - 2s 419us/step - loss: 3.6731e-06 - acc: 1.0000 - val_loss: 0.1665 - val_acc: 0.9839\n",
      "Epoch 52/100\n",
      "4457/4457 [==============================] - 2s 490us/step - loss: 3.3330e-06 - acc: 1.0000 - val_loss: 0.1670 - val_acc: 0.9839\n",
      "Epoch 53/100\n",
      "4457/4457 [==============================] - 2s 470us/step - loss: 2.8451e-06 - acc: 1.0000 - val_loss: 0.1680 - val_acc: 0.9839\n",
      "Epoch 54/100\n",
      "4457/4457 [==============================] - 2s 447us/step - loss: 2.6092e-06 - acc: 1.0000 - val_loss: 0.1684 - val_acc: 0.9839\n",
      "Epoch 55/100\n",
      "4457/4457 [==============================] - 2s 479us/step - loss: 2.2162e-06 - acc: 1.0000 - val_loss: 0.1690 - val_acc: 0.9839\n",
      "Epoch 56/100\n",
      "4457/4457 [==============================] - 2s 430us/step - loss: 1.9798e-06 - acc: 1.0000 - val_loss: 0.1703 - val_acc: 0.9839\n",
      "Epoch 57/100\n",
      "4457/4457 [==============================] - 2s 466us/step - loss: 1.7838e-06 - acc: 1.0000 - val_loss: 0.1705 - val_acc: 0.9839\n",
      "Epoch 58/100\n",
      "4457/4457 [==============================] - 2s 517us/step - loss: 1.5610e-06 - acc: 1.0000 - val_loss: 0.1719 - val_acc: 0.9839\n"
     ]
    },
    {
     "name": "stdout",
     "output_type": "stream",
     "text": [
      "Epoch 59/100\n",
      "4457/4457 [==============================] - 2s 559us/step - loss: 1.3846e-06 - acc: 1.0000 - val_loss: 0.1721 - val_acc: 0.9839\n",
      "Epoch 60/100\n",
      "4457/4457 [==============================] - 2s 417us/step - loss: 1.2179e-06 - acc: 1.0000 - val_loss: 0.1728 - val_acc: 0.9839\n",
      "Epoch 61/100\n",
      "4457/4457 [==============================] - 2s 422us/step - loss: 1.0827e-06 - acc: 1.0000 - val_loss: 0.1743 - val_acc: 0.9839\n",
      "Epoch 62/100\n",
      "4457/4457 [==============================] - 2s 423us/step - loss: 9.6612e-07 - acc: 1.0000 - val_loss: 0.1750 - val_acc: 0.9839\n",
      "Epoch 63/100\n",
      "4457/4457 [==============================] - 2s 410us/step - loss: 8.7501e-07 - acc: 1.0000 - val_loss: 0.1754 - val_acc: 0.9839\n",
      "Epoch 64/100\n",
      "4457/4457 [==============================] - 2s 417us/step - loss: 7.7034e-07 - acc: 1.0000 - val_loss: 0.1758 - val_acc: 0.9839\n",
      "Epoch 65/100\n",
      "4457/4457 [==============================] - 2s 454us/step - loss: 6.7728e-07 - acc: 1.0000 - val_loss: 0.1775 - val_acc: 0.9839\n",
      "Epoch 66/100\n",
      "4457/4457 [==============================] - 2s 432us/step - loss: 6.3494e-07 - acc: 1.0000 - val_loss: 0.1773 - val_acc: 0.9839\n",
      "Epoch 67/100\n",
      "4457/4457 [==============================] - 2s 510us/step - loss: 5.4034e-07 - acc: 1.0000 - val_loss: 0.1781 - val_acc: 0.9839\n",
      "Epoch 68/100\n",
      "4457/4457 [==============================] - 2s 410us/step - loss: 4.8585e-07 - acc: 1.0000 - val_loss: 0.1785 - val_acc: 0.9839\n",
      "Epoch 69/100\n",
      "4457/4457 [==============================] - 2s 419us/step - loss: 4.3569e-07 - acc: 1.0000 - val_loss: 0.1798 - val_acc: 0.9839\n",
      "Epoch 70/100\n",
      "4457/4457 [==============================] - 2s 398us/step - loss: 3.9486e-07 - acc: 1.0000 - val_loss: 0.1809 - val_acc: 0.9839\n",
      "Epoch 71/100\n",
      "4457/4457 [==============================] - 2s 424us/step - loss: 3.5597e-07 - acc: 1.0000 - val_loss: 0.1818 - val_acc: 0.9839\n",
      "Epoch 72/100\n",
      "4457/4457 [==============================] - 2s 405us/step - loss: 3.2513e-07 - acc: 1.0000 - val_loss: 0.1824 - val_acc: 0.9839\n",
      "Epoch 73/100\n",
      "4457/4457 [==============================] - 2s 392us/step - loss: 2.9592e-07 - acc: 1.0000 - val_loss: 0.1838 - val_acc: 0.9839\n",
      "Epoch 74/100\n",
      "4457/4457 [==============================] - 2s 403us/step - loss: 2.7646e-07 - acc: 1.0000 - val_loss: 0.1841 - val_acc: 0.9839\n",
      "Epoch 75/100\n",
      "4457/4457 [==============================] - 2s 407us/step - loss: 2.5116e-07 - acc: 1.0000 - val_loss: 0.1841 - val_acc: 0.9839\n",
      "Epoch 76/100\n",
      "4457/4457 [==============================] - 2s 404us/step - loss: 2.3235e-07 - acc: 1.0000 - val_loss: 0.1847 - val_acc: 0.9839\n",
      "Epoch 77/100\n",
      "4457/4457 [==============================] - 2s 415us/step - loss: 2.1712e-07 - acc: 1.0000 - val_loss: 0.1848 - val_acc: 0.9839\n",
      "Epoch 78/100\n",
      "4457/4457 [==============================] - 2s 399us/step - loss: 2.0041e-07 - acc: 1.0000 - val_loss: 0.1863 - val_acc: 0.9839\n",
      "Epoch 79/100\n",
      "4457/4457 [==============================] - 2s 418us/step - loss: 1.8703e-07 - acc: 1.0000 - val_loss: 0.1865 - val_acc: 0.9839\n",
      "Epoch 80/100\n",
      "4457/4457 [==============================] - 2s 503us/step - loss: 1.7563e-07 - acc: 1.0000 - val_loss: 0.1874 - val_acc: 0.9839\n",
      "Epoch 81/100\n",
      "4457/4457 [==============================] - 2s 411us/step - loss: 1.6801e-07 - acc: 1.0000 - val_loss: 0.1875 - val_acc: 0.9839\n",
      "Epoch 82/100\n",
      "4457/4457 [==============================] - 2s 424us/step - loss: 1.5793e-07 - acc: 1.0000 - val_loss: 0.1876 - val_acc: 0.9839\n",
      "Epoch 83/100\n",
      "4457/4457 [==============================] - 2s 451us/step - loss: 1.5121e-07 - acc: 1.0000 - val_loss: 0.1879 - val_acc: 0.9839\n",
      "Epoch 84/100\n",
      "4457/4457 [==============================] - 2s 537us/step - loss: 1.4552e-07 - acc: 1.0000 - val_loss: 0.1884 - val_acc: 0.9839\n",
      "Epoch 85/100\n",
      "4457/4457 [==============================] - 2s 494us/step - loss: 1.4027e-07 - acc: 1.0000 - val_loss: 0.1894 - val_acc: 0.9839\n",
      "Epoch 86/100\n",
      "4457/4457 [==============================] - 2s 463us/step - loss: 1.3596e-07 - acc: 1.0000 - val_loss: 0.1898 - val_acc: 0.9839\n",
      "Epoch 87/100\n",
      "4457/4457 [==============================] - 2s 492us/step - loss: 1.3146e-07 - acc: 1.0000 - val_loss: 0.1902 - val_acc: 0.9830\n",
      "Epoch 88/100\n",
      "4457/4457 [==============================] - 2s 428us/step - loss: 1.2804e-07 - acc: 1.0000 - val_loss: 0.1905 - val_acc: 0.9830\n",
      "Epoch 89/100\n",
      "4457/4457 [==============================] - 2s 420us/step - loss: 1.2505e-07 - acc: 1.0000 - val_loss: 0.1906 - val_acc: 0.9830\n",
      "Epoch 90/100\n",
      "4457/4457 [==============================] - 2s 433us/step - loss: 1.2226e-07 - acc: 1.0000 - val_loss: 0.1915 - val_acc: 0.9830\n",
      "Epoch 91/100\n",
      "4457/4457 [==============================] - 2s 488us/step - loss: 1.1948e-07 - acc: 1.0000 - val_loss: 0.1913 - val_acc: 0.9830\n",
      "Epoch 92/100\n",
      "4457/4457 [==============================] - 2s 533us/step - loss: 1.1746e-07 - acc: 1.0000 - val_loss: 0.1918 - val_acc: 0.9830\n",
      "Epoch 93/100\n",
      "4457/4457 [==============================] - 2s 500us/step - loss: 1.1608e-07 - acc: 1.0000 - val_loss: 0.1916 - val_acc: 0.9830\n",
      "Epoch 94/100\n",
      "4457/4457 [==============================] - 2s 468us/step - loss: 1.1403e-07 - acc: 1.0000 - val_loss: 0.1925 - val_acc: 0.9830\n",
      "Epoch 95/100\n",
      "4457/4457 [==============================] - 2s 519us/step - loss: 1.1295e-07 - acc: 1.0000 - val_loss: 0.1920 - val_acc: 0.9830\n",
      "Epoch 96/100\n",
      "4457/4457 [==============================] - 2s 501us/step - loss: 1.1161e-07 - acc: 1.0000 - val_loss: 0.1928 - val_acc: 0.9830\n",
      "Epoch 97/100\n",
      "4457/4457 [==============================] - 2s 519us/step - loss: 1.1081e-07 - acc: 1.0000 - val_loss: 0.1931 - val_acc: 0.9830\n",
      "Epoch 98/100\n",
      "4457/4457 [==============================] - 2s 465us/step - loss: 1.0972e-07 - acc: 1.0000 - val_loss: 0.1931 - val_acc: 0.9830\n",
      "Epoch 99/100\n",
      "4457/4457 [==============================] - 2s 415us/step - loss: 1.0889e-07 - acc: 1.0000 - val_loss: 0.1940 - val_acc: 0.9830\n",
      "Epoch 100/100\n",
      "4457/4457 [==============================] - 2s 398us/step - loss: 1.0817e-07 - acc: 1.0000 - val_loss: 0.1939 - val_acc: 0.9830\n"
     ]
    }
   ],
   "source": [
    "X_train, X_test, y_train, y_test = train_test_split(sentences, y, test_size=0.2, random_state=1000)\n",
    "\n",
    "vectorizer = CountVectorizer()\n",
    "vectorizer.fit(X_train)\n",
    "\n",
    "X_train = vectorizer.transform(X_train)\n",
    "X_test  = vectorizer.transform(X_test)\n",
    "\n",
    "model = create_model(X_train)\n",
    "\n",
    "history = model.fit(X_train, y_train,\n",
    "                    epochs=100,\n",
    "                    verbose=True,\n",
    "                    validation_data=(X_test, y_test),\n",
    "                    batch_size=10)"
   ]
  },
  {
   "cell_type": "code",
   "execution_count": 129,
   "metadata": {},
   "outputs": [
    {
     "name": "stdout",
     "output_type": "stream",
     "text": [
      "Training Accuracy: 1.0000\n",
      "Testing Accuracy:  0.9830\n"
     ]
    }
   ],
   "source": [
    "loss, accuracy = model.evaluate(X_train, y_train, verbose=False)\n",
    "print(\"Training Accuracy: {:.4f}\".format(accuracy))\n",
    "loss, accuracy = model.evaluate(X_test, y_test, verbose=False)\n",
    "print(\"Testing Accuracy:  {:.4f}\".format(accuracy))"
   ]
  },
  {
   "cell_type": "code",
   "execution_count": 130,
   "metadata": {},
   "outputs": [
    {
     "data": {
      "image/png": "[encoded data removed]",
      "text/plain": [
       "<Figure size 864x360 with 2 Axes>"
      ]
     },
     "metadata": {},
     "output_type": "display_data"
    }
   ],
   "source": [
    "plt.style.use('ggplot')\n",
    "\n",
    "def plot_history(history):\n",
    "    acc = history.history['acc']\n",
    "    val_acc = history.history['val_acc']\n",
    "    loss = history.history['loss']\n",
    "    val_loss = history.history['val_loss']\n",
    "    x = range(1, len(acc) + 1)\n",
    "\n",
    "    plt.figure(figsize=(12, 5))\n",
    "    plt.subplot(1, 2, 1)\n",
    "    plt.plot(x, acc, 'b', label='Training acc')\n",
    "    plt.plot(x, val_acc, 'r', label='Validation acc')\n",
    "    plt.title('Training and validation accuracy')\n",
    "    plt.legend()\n",
    "    plt.subplot(1, 2, 2)\n",
    "    plt.plot(x, loss, 'b', label='Training loss')\n",
    "    plt.plot(x, val_loss, 'r', label='Validation loss')\n",
    "    plt.title('Training and validation loss')\n",
    "    plt.legend()\n",
    "    \n",
    "plot_history(history)"
   ]
  },
  {
   "cell_type": "code",
   "execution_count": 133,
   "metadata": {},
   "outputs": [
    {
     "name": "stdout",
     "output_type": "stream",
     "text": [
      "Prediction Accuracy: 0.968609865470852\n"
     ]
    }
   ],
   "source": [
    "predictions = model.predict(X_test)\n",
    "predictions = [ int(x) for x in predictions ]\n",
    "accuracy = metrics.accuracy_score(y_test, predictions)\n",
    "print('Prediction Accuracy:', accuracy)"
   ]
  },
  {
   "cell_type": "markdown",
   "metadata": {},
   "source": [
    "#### Conclusion"
   ]
  },
  {
   "cell_type": "markdown",
   "metadata": {},
   "source": [
    "The model is overfitting since the validation loss is increasing. Based on the graph, only a epochs are necessary to achieve similar results, probably about 10 is enough.\n",
    "\n",
    "Anyway, logistic regression is a simpler model, but it reaches a higher accuracy for this problem."
   ]
  }
 ],
 "metadata": {
  "kernelspec": {
   "display_name": "Python 3",
   "language": "python",
   "name": "python3"
  },
  "language_info": {
   "codemirror_mode": {
    "name": "ipython",
    "version": 3
   },
   "file_extension": ".py",
   "mimetype": "text/x-python",
   "name": "python",
   "nbconvert_exporter": "python",
   "pygments_lexer": "ipython3",
   "version": "3.7.3"
  }
 },
 "nbformat": 4,
 "nbformat_minor": 2
}
